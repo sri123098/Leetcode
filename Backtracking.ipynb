{
 "cells": [
  {
   "cell_type": "markdown",
   "metadata": {},
   "source": [
    "# Back Tracking problems"
   ]
  },
  {
   "cell_type": "markdown",
   "metadata": {},
   "source": [
    "Permutations\n",
    "\n",
    "Permutations II\n",
    "\n",
    "Subset\n",
    "\n",
    "Subsets II\n",
    "\n",
    "Combination sum \n",
    "\n",
    "Combination sum II\n",
    "\n",
    "Generate paranthesis"
   ]
  },
  {
   "cell_type": "code",
   "execution_count": 16,
   "metadata": {},
   "outputs": [
    {
     "name": "stdout",
     "output_type": "stream",
     "text": [
      "[[1, 2, 3], [1, 3, 2], [2, 1, 3], [2, 3, 1], [3, 1, 2], [3, 2, 1]]\n",
      "0.9360313415527344\n",
      "[[1, 2, 3], [2, 1, 3], [2, 3, 1], [1, 3, 2], [3, 1, 2], [3, 2, 1]]\n",
      "1.3010501861572266\n"
     ]
    }
   ],
   "source": [
    "import time\n",
    "output=[]\n",
    "def rec(input,bool,index):    \n",
    "#     Base case\n",
    "    if len(index)==len(input):\n",
    "        temp=[]\n",
    "        for i in range(len(input)):\n",
    "            temp.append(input[index[i]])\n",
    "        output.append(temp)\n",
    "        return\n",
    "\n",
    "    for i in range(len(input)):\n",
    "        if bool[i]==False:\n",
    "            bool[i]=True\n",
    "            index.append(i)\n",
    "            rec(input,bool,index)\n",
    "            bool[i]=False\n",
    "            index.pop()\n",
    "\n",
    "t=time.time()\n",
    "rec([1,2,3],[False,False,False],[])\n",
    "print(output)\n",
    "print((time.time()-t)*1000)\n",
    "#I got the reason that the indices if you are picking, then it should be proper. \n",
    "# The slicing operation is too heavy \n",
    "def permute(a):\n",
    "    if len(a)==1:\n",
    "        return [a]\n",
    "    else:\n",
    "        b=permute(a[1:])\n",
    "        output=[]\n",
    "        q=len(b[0])\n",
    "        p=len(b)\n",
    "        for i in range(p):\n",
    "            for j in range(q+1):\n",
    "                c=b[i][:j]+[a[0]]+b[i][j:]\n",
    "                output.append(c)\n",
    "        return output\n",
    "t2=time.time()\n",
    "print(permute([1,2,3]))\n",
    "print((time.time()-t)*1000)"
   ]
  },
  {
   "cell_type": "code",
   "execution_count": null,
   "metadata": {},
   "outputs": [],
   "source": [
    "Permutations"
   ]
  },
  {
   "cell_type": "code",
   "execution_count": 14,
   "metadata": {},
   "outputs": [],
   "source": [
    "def permute(a):\n",
    "    if len(a)==1:\n",
    "        return [a]\n",
    "    else:\n",
    "        b=a[0]\n",
    "        k=permute(a[1:])\n",
    "        print(k)\n",
    "        res=[]\n",
    "        for i in k:\n",
    "            for j in range(len(i)+1):\n",
    "                res.append(i[:j]+[b]+i[j:])\n",
    "        return res    "
   ]
  },
  {
   "cell_type": "markdown",
   "metadata": {},
   "source": [
    "# General strategy to look in backtracking"
   ]
  },
  {
   "cell_type": "code",
   "execution_count": null,
   "metadata": {},
   "outputs": [],
   "source": [
    "void findSolutions(n, other params) :\n",
    "    if (found a solution) :\n",
    "        solutionsFound = solutionsFound + 1;\n",
    "        displaySolution();\n",
    "        if (solutionsFound >= solutionTarget) : \n",
    "            System.exit(0);\n",
    "        return\n",
    "\n",
    "    for (val = first to last) :\n",
    "        if (isValid(val, n)) :\n",
    "            applyValue(val, n);\n",
    "            findSolutions(n+1, other params);\n",
    "            removeValue(val, n);\n",
    "            \n",
    "\n",
    "Subset sum and generate paranthesis problems can be solved using back tracking."
   ]
  },
  {
   "cell_type": "markdown",
   "metadata": {},
   "source": [
    "# Combination Sum"
   ]
  },
  {
   "cell_type": "code",
   "execution_count": 6,
   "metadata": {},
   "outputs": [
    {
     "name": "stdout",
     "output_type": "stream",
     "text": [
      "[[2, 2, 3], [2, 5], [7]]\n"
     ]
    }
   ],
   "source": [
    "def comb(candy,t):\n",
    "    '''\n",
    "    You start with an empty string. i.e state tree space root.\n",
    "    Then you append the string \n",
    "    check the constraints. \n",
    "    check for the solution-- append\n",
    "    If the constraints are meeting, you \n",
    "    \n",
    "    Combination sum is nothing but subset sum problem in back tracking.\n",
    "    \n",
    "    \n",
    "    '''\n",
    "    candy.sort()\n",
    "    out=[]\n",
    "    def count(candy,cum,l):\n",
    "        if cum==t:\n",
    "            out.append(l)\n",
    "        elif cum > t:\n",
    "            return\n",
    "        elif cum < t:\n",
    "            for i in range(len(candy)):\n",
    "                if cum + candy[i] > t:\n",
    "                    return\n",
    "                else:\n",
    "                    count(candy[i:],cum+candy[i],l+[candy[i]])\n",
    "            return\n",
    "    count(candy,0,[])\n",
    "    return out\n",
    "\n",
    "print(comb([2,3,5,7],7))"
   ]
  },
  {
   "cell_type": "markdown",
   "metadata": {},
   "source": [
    "# Combination Sum II"
   ]
  },
  {
   "cell_type": "code",
   "execution_count": null,
   "metadata": {},
   "outputs": [],
   "source": [
    "def comb(candy,t):\n",
    "    candy.sort()\n",
    "    out=[]\n",
    "    def count(candy,cum,l):\n",
    "        if cum==t:\n",
    "            out.append(l)\n",
    "        elif cum > t:\n",
    "            return\n",
    "        elif cum < t:\n",
    "            for i in range(len(candy)):\n",
    "                if cum + candy[i] > t:\n",
    "                    return\n",
    "                else:\n",
    "                    count(candy[i+1:],cum+candy[i],l+[candy[i]])\n",
    "            return\n",
    "    count(candy,0,[])\n",
    "    return out\n",
    "\n",
    "print(comb([2,3,5,7],7))"
   ]
  },
  {
   "cell_type": "markdown",
   "metadata": {},
   "source": [
    "# Recursive multiplication"
   ]
  },
  {
   "cell_type": "code",
   "execution_count": null,
   "metadata": {},
   "outputs": [],
   "source": [
    "def recursive_multiply(a, b):\n",
    "    A = max(a, b)\n",
    "    B = min(a, b)\n",
    "    return helper_recursive_multiply(A, B)\n",
    "\n",
    "\n",
    "def helper_recursive_multiply(a, b):\n",
    "    if b == 1:\n",
    "        return a\n",
    "    if b == 0:\n",
    "        return 0\n",
    "    half_b = int(b >> 1)\n",
    "    if b > half_b + half_b:  # odd b. shifting with truncation eliminates a 1\n",
    "        return a + helper_recursive_multiply(a << 1, half_b)  # odd case\n",
    "    else:\n",
    "        return helper_recursive_multiply(a << 1, half_b)  # even case"
   ]
  },
  {
   "cell_type": "markdown",
   "metadata": {},
   "source": [
    "# Generate Paranthesis"
   ]
  },
  {
   "cell_type": "code",
   "execution_count": null,
   "metadata": {},
   "outputs": [],
   "source": [
    "# How can you generate teh paranthesis\n",
    "\n",
    "#Allow appending the\n",
    "#open paranthesis\n",
    "#closed paranthesis\n",
    "\n",
    "        out=[]\n",
    "        def gene(o,c,n,s):\n",
    "            if c==n:\n",
    "                out.append(''.join(s))\n",
    "                return \n",
    "            else:\n",
    "                if o > c:\n",
    "                    s.append(\")\")\n",
    "                    #(()-----(()(     or (())\n",
    "                    gene(o,c+1,n,s)\n",
    "                    s.pop()\n",
    "                if o < n:\n",
    "                    s.append(\"(\")\n",
    "                    gene(o+1,c,n,s)\n",
    "                    s.pop()\n",
    "        gene(0,0,n,[])\n",
    "        return out\n",
    "\n",
    "\n",
    "\n",
    "\n",
    "    out = []\n",
    "    def gene(open, close, string, n):\n",
    "        if close ==n:\n",
    "            out.append(''.join(string))\n",
    "            return \n",
    "        else:\n",
    "            if open > close:\n",
    "                string.append(\")\")\n",
    "                gene(open, close + 1, string, n)\n",
    "                string.pop()\n",
    "            if open < n:\n",
    "                string.append(\"(\")\n",
    "                gene(open + 1, close , string, n)\n",
    "                string.pop()\n",
    "            return \n",
    "    return gene(0, 0, [], n)"
   ]
  },
  {
   "cell_type": "code",
   "execution_count": null,
   "metadata": {},
   "outputs": [],
   "source": [
    "Serialize and Deserialize a binary tree"
   ]
  },
  {
   "cell_type": "code",
   "execution_count": null,
   "metadata": {},
   "outputs": [],
   "source": [
    "       1\n",
    "    2     3\n",
    "       4      5\n",
    "\n",
    "Then it should be [1 2 3 None None]\n",
    "\n",
    "      def helper(root,string):\n",
    "            if root==None:\n",
    "                string+=\"None,\"\n",
    "            else:\n",
    "                string+=str(root.val)+\",\"\n",
    "                string = helper(root.left, string)\n",
    "                string = helper(root.right, string)\n",
    "            return string\n",
    "        return helper(root, \"\")\n",
    "            \n",
    "    def deserialize(self, data):\n",
    "        \"\"\"Decodes your encoded data to tree.\n",
    "        :type data: str\n",
    "        :rtype: TreeNode\n",
    "        #Perform a pre order traversal for serialization\n",
    "        \"\"\"\n",
    "        list= data.split(\",\")\n",
    "        def helper2(list):\n",
    "            if list==None:\n",
    "                return \n",
    "            if list[0]=='None':\n",
    "                list.pop(0)\n",
    "                return None\n",
    "            root=TreeNode(list[0])\n",
    "            list.pop(0)\n",
    "            root.left=helper2(list)\n",
    "            #At any point of time, I'm doing pop(0). So, list is sufficient\n",
    "            root.right=helper2(list)\n",
    "            return root\n",
    "        return helper2(list)\n",
    "\n",
    "Strobogramatic number\n",
    "        \"You need to explain searching for the numbers\n",
    "        Am I missing the numbers. Hashtable, reverse and then proceed\n",
    "        \"\n",
    "        map={}\n",
    "        map[0]=0\n",
    "        map[1]=1\n",
    "        map[9]=6\n",
    "        map[6]=9\n",
    "        map[8]=8\n",
    "        def change(num):\n",
    "            k=num[::-1]\n",
    "            # print(k)\n",
    "            res=\"\"\n",
    "            for i in range(len(k)):\n",
    "                if int(k[i]) in map:\n",
    "                    res+=str(map[int(k[i])])  \n",
    "                else:\n",
    "                    return False\n",
    "            return res==num\n",
    "        return change(num)\n",
    "\n",
    "\n",
    "    \n",
    "    \n",
    "    \n",
    "    "
   ]
  },
  {
   "cell_type": "markdown",
   "metadata": {},
   "source": [
    "# TRIE data structure"
   ]
  },
  {
   "cell_type": "code",
   "execution_count": 13,
   "metadata": {},
   "outputs": [],
   "source": [
    "#First define the trie node\n",
    "import collections\n",
    "class TrieNode():\n",
    "    def __init__(self):\n",
    "        self.children = collections.defaultdict(TrieNode)\n",
    "        self.isword = False\n",
    "\n",
    "class Word():\n",
    "    def __init__(self):\n",
    "        self.root = TrieNode()\n",
    "        \n",
    "    def add(self, word):\n",
    "        node = self.root\n",
    "        for w in word:\n",
    "            node = node.children[w]\n",
    "        node.isword = True\n",
    "    \n",
    "    def search(self, word):\n",
    "        node = self.root\n",
    "        self.res = False\n",
    "        self.dfs(node, word)\n",
    "        return self.res\n",
    "    \n",
    "    def dfs(self, node, word):\n",
    "        if not word:\n",
    "            if node.isword:\n",
    "                self.res = True\n",
    "            return\n",
    "        elif word[0] == \".\":\n",
    "#             node = node.children.get(word[0])\n",
    "            for n in node.children.values():\n",
    "                self.dfs(n, word[1:])\n",
    "        else:\n",
    "            node = node.children.get(word[0])\n",
    "            if not node:\n",
    "                return\n",
    "            self.dfs(node, word[1:])\n",
    "            \n",
    "# https://leetcode.com/problems/add-and-search-word-data-structure-design/discuss/59725/Python-easy-to-follow-solution-using-Trie."
   ]
  },
  {
   "cell_type": "code",
   "execution_count": 14,
   "metadata": {},
   "outputs": [],
   "source": [
    "abc=Word()"
   ]
  },
  {
   "cell_type": "code",
   "execution_count": 15,
   "metadata": {},
   "outputs": [],
   "source": [
    "abc.add(\"amma\")"
   ]
  },
  {
   "cell_type": "code",
   "execution_count": 16,
   "metadata": {},
   "outputs": [
    {
     "name": "stdout",
     "output_type": "stream",
     "text": [
      "first True\n",
      "second False\n"
     ]
    }
   ],
   "source": [
    "print(\"first\", abc.search(\"amm.\"))\n",
    "print(\"second\", abc.search(\"ammakosam\"))"
   ]
  },
  {
   "cell_type": "code",
   "execution_count": null,
   "metadata": {},
   "outputs": [],
   "source": []
  },
  {
   "cell_type": "markdown",
   "metadata": {},
   "source": [
    "# COUNT OF SUBARRAY SUMS EQUALS TO K"
   ]
  },
  {
   "cell_type": "code",
   "execution_count": null,
   "metadata": {},
   "outputs": [],
   "source": [
    "        h=collections.defaultdict(int)\n",
    "        h[0] = 1\n",
    "        count = 0\n",
    "        total =0\n",
    "        for i in nums:\n",
    "            total += i\n",
    "            if total-k in h:\n",
    "                count += h[total-k]   #You have to add h[total-k]\n",
    "            h[total]+=1\n",
    "        return count\n",
    "    #If they can maintain a cumulative sum in which during storing if you can get the sum-k in "
   ]
  },
  {
   "cell_type": "markdown",
   "metadata": {},
   "source": [
    "# MAXIMUM SIZE SUB ARRAY SUM EQUALS K"
   ]
  },
  {
   "cell_type": "code",
   "execution_count": null,
   "metadata": {},
   "outputs": [],
   "source": [
    "        result,accumulate=0,0\n",
    "        hmap={0:-1}\n",
    "        for i in range(len(nums)):\n",
    "            acc+=nums[i]\n",
    "            if acc not in hmap:\n",
    "                hmap[acc]=i\n",
    "            if acc-k in hmap:\n",
    "                result=max(result, i-hmap[acc-k])\n",
    "        return res"
   ]
  },
  {
   "cell_type": "markdown",
   "metadata": {},
   "source": [
    "# MAXIMUM CONTIGUOUS SUB ARRAY"
   ]
  },
  {
   "cell_type": "code",
   "execution_count": null,
   "metadata": {},
   "outputs": [],
   "source": [
    "\n",
    "\n",
    "        sum_so_far = nums[0]\n",
    "        cur_max    = nums[0]\n",
    "        if len(nums)==1:\n",
    "            return nums[0]\n",
    "        for i in range(1,len(nums)):\n",
    "            sum_so_far=max(nums[i], nums[i]+sum_so_far)\n",
    "            cur_max=max(cur_max,sum_so_far)\n",
    "        return cur_max"
   ]
  },
  {
   "cell_type": "code",
   "execution_count": null,
   "metadata": {},
   "outputs": [],
   "source": [
    "#         Here dp[i] refers to maximum sub array sum including the element i\n",
    "\n",
    "        dp = [0 for i in nums]\n",
    "        \n",
    "        dp[0] = nums[0]\n",
    "        for i in range(1, len(nums)):\n",
    "            dp[i]= max(nums[i], nums[i] + dp[i-1])\n",
    "        \n",
    "        return max(dp)"
   ]
  },
  {
   "cell_type": "markdown",
   "metadata": {},
   "source": [
    "# MAXIMUM PRODUCT SUB ARRAY"
   ]
  },
  {
   "cell_type": "code",
   "execution_count": null,
   "metadata": {},
   "outputs": [],
   "source": [
    "        r=a[0]\n",
    "        min_so_far=r\n",
    "        max_so_far=r\n",
    "        if len(a)==1:\n",
    "            return r\n",
    "        for i in range(1,len(a)):\n",
    "#             Dont ever write like this in C\n",
    "            max_so_far,min_so_far=max(a[i], max_so_far*a[i], min_so_far*a[i]), min(a[i], max_so_far*a[i], min_so_far*a[i])\n",
    "            r=max(r,max_so_far)\n",
    "        return r"
   ]
  },
  {
   "cell_type": "markdown",
   "metadata": {},
   "source": [
    "# Search in rotated sorted array"
   ]
  },
  {
   "cell_type": "code",
   "execution_count": 26,
   "metadata": {},
   "outputs": [
    {
     "name": "stdout",
     "output_type": "stream",
     "text": [
      "5\n",
      "0\n"
     ]
    }
   ],
   "source": [
    "def pivot(arr):\n",
    "    l=0\n",
    "    r=len(arr)-1\n",
    "    while(l<=r):\n",
    "        if r-l ==1:\n",
    "            if arr[l]>arr[r]:\n",
    "                return r\n",
    "            else:\n",
    "                return 0\n",
    "        mid=(l+r)//2\n",
    "        if arr[mid] > arr[mid-1] and arr[mid+1] < arr[mid]:\n",
    "            return mid+1\n",
    "        elif arr[mid]>arr[mid-1] and arr[mid+1] > arr[mid] and arr[mid] > arr[0]:\n",
    "            l=mid\n",
    "        else:\n",
    "            r=mid\n",
    "    return 0\n",
    "\n",
    "\n",
    "\n",
    "def bin(arr,target,l,r):\n",
    "    while(l<=r):\n",
    "        if r-l==1:\n",
    "            if arr[l]==target:\n",
    "                return l\n",
    "            elif arr[r]==target:\n",
    "                return r\n",
    "            else:\n",
    "                return -1\n",
    "        mid = (l+r)//2\n",
    "        if arr[mid] > target:\n",
    "            r=mid\n",
    "        elif arr[mid] < target:\n",
    "            l=mid\n",
    "        else:\n",
    "            return mid\n",
    "    return -1\n",
    "\n",
    "def rot(arr,t):\n",
    "    p=pivot(arr)\n",
    "    if p==0:\n",
    "        return bin(arr,t,0,len(arr)-1)\n",
    "    if bin(arr,t,0,p-1) !=-1:\n",
    "        return bin(arr,t,0,p-1)\n",
    "    elif bin(arr,t,p,len(arr)-1) !=-1:\n",
    "        return bin(arr,t,p,len(arr)-1)\n",
    "    else:\n",
    "        return -1\n",
    "\n",
    "print(pivot([1,2,3,4,9,6,7,8]))\n",
    "print(rot([6,7],6))\n",
    "        \n",
    "            "
   ]
  },
  {
   "cell_type": "code",
   "execution_count": null,
   "metadata": {},
   "outputs": [],
   "source": []
  },
  {
   "cell_type": "code",
   "execution_count": null,
   "metadata": {},
   "outputs": [],
   "source": []
  },
  {
   "cell_type": "markdown",
   "metadata": {},
   "source": [
    "# K smallest"
   ]
  },
  {
   "cell_type": "code",
   "execution_count": null,
   "metadata": {},
   "outputs": [],
   "source": []
  },
  {
   "cell_type": "code",
   "execution_count": null,
   "metadata": {},
   "outputs": [],
   "source": []
  },
  {
   "cell_type": "code",
   "execution_count": null,
   "metadata": {},
   "outputs": [],
   "source": []
  },
  {
   "cell_type": "markdown",
   "metadata": {},
   "source": [
    "# K largest"
   ]
  },
  {
   "cell_type": "code",
   "execution_count": null,
   "metadata": {},
   "outputs": [],
   "source": [
    "import heapq\n",
    "import math\n",
    "class Solution(object):\n",
    "    def smallestDistancePair(self, nums, k):\n",
    "        \"\"\"\n",
    "        :type nums: List[int]\n",
    "        :type k: int\n",
    "        :rtype: int\n",
    "        \"\"\"\n",
    "        lis=[-i for i in range(k)]\n",
    "        print(lis)\n",
    "        heapq.heapify(lis)\n",
    "        print(lis)\n",
    "        n=len(nums)\n",
    "        for i in range(n):\n",
    "            for j in range(i+1,n):\n",
    "                heapq.heappushpop(lis, int(math.fabs(nums[i]-nums[j])))\n",
    "        print(lis)\n",
    "        return lis[0]"
   ]
  },
  {
   "cell_type": "code",
   "execution_count": 6,
   "metadata": {},
   "outputs": [
    {
     "name": "stdout",
     "output_type": "stream",
     "text": [
      "[-40, 1, -20, 8, 3, 40, 9]\n",
      "[-20, 1, 9, 8, 3, 40]\n",
      "[1, 3, 9, 8, 40]\n",
      "first push is happening and then pop is happening\n",
      "[1, 3, 9, 8, 40]\n",
      "first pop and then pop is happening and then pop is happening\n",
      "[-40, 3, 9, 8, 40]\n"
     ]
    }
   ],
   "source": [
    "import heapq\n",
    "lis=[3,8,9,1]\n",
    "heapq.heapify(lis)\n",
    "heapq.heappush(lis,-20)\n",
    "heapq.heappush(lis,40)\n",
    "heapq.heappush(lis,-40)\n",
    "print(lis)\n",
    "heapq.heappop(lis)\n",
    "print(lis)\n",
    "heapq.heappop(lis)\n",
    "print(lis)\n",
    "print(\"first push is happening and then pop is happening\")\n",
    "heapq.heappushpop(lis,-40)\n",
    "print(lis)\n",
    "print(\"first pop and then pop is happening and then pop is happening\")\n",
    "heapq.heapreplace(lis,-40)\n",
    "print(lis)\n"
   ]
  },
  {
   "cell_type": "markdown",
   "metadata": {},
   "source": [
    "# Dynamic Programming"
   ]
  },
  {
   "cell_type": "markdown",
   "metadata": {},
   "source": [
    "I gave up for the longest palindrome substring."
   ]
  },
  {
   "cell_type": "code",
   "execution_count": null,
   "metadata": {},
   "outputs": [],
   "source": [
    "Sub problem which you can think of checking is \n",
    "If s[i+1:j] is a palindrome, then check for s[i]==s[j] then s[i][j+1]=True"
   ]
  },
  {
   "cell_type": "markdown",
   "metadata": {},
   "source": [
    "# Longest palindromic substring"
   ]
  },
  {
   "cell_type": "code",
   "execution_count": 26,
   "metadata": {},
   "outputs": [
    {
     "name": "stdout",
     "output_type": "stream",
     "text": [
      "5\n"
     ]
    }
   ],
   "source": [
    "def long(s):\n",
    "    k=len(s)\n",
    "    mat=[[0 for j in range(k)] for i in range(k)]\n",
    "#For all the single strings\n",
    "    i=0\n",
    "    while(i<k):\n",
    "        mat[i][i]=True\n",
    "        i=i+1\n",
    "    l=1\n",
    "#For all the two length substrings\n",
    "    i=0\n",
    "    while(i<k-1):\n",
    "        if s[i]==s[i+1]:\n",
    "            mat[i][i+1]=True\n",
    "            l=2\n",
    "        i=i+1\n",
    "#Bottom up order\n",
    "    i=0\n",
    "    for i in range(k-2,-1,-1):\n",
    "        for j in range(i+2,k):\n",
    "#             print(mat[i+1][j-1], mat[i][j])\n",
    "            if mat[i+1][j-1] and s[i]==s[j]:\n",
    "                mat[i][j]=True\n",
    "                l=max(l,j-i+1)\n",
    "    return l\n",
    "\n",
    "# mat[i+1][j-1]\n",
    "print(long(\"aaabaa\"))      "
   ]
  },
  {
   "cell_type": "markdown",
   "metadata": {},
   "source": [
    "# How can I change to print the string?"
   ]
  },
  {
   "cell_type": "code",
   "execution_count": 29,
   "metadata": {},
   "outputs": [
    {
     "name": "stdout",
     "output_type": "stream",
     "text": [
      "(5, 'aabaa')\n"
     ]
    }
   ],
   "source": [
    "def long(s):\n",
    "    k=len(s)\n",
    "    mat=[[0 for j in range(k)] for i in range(k)]\n",
    "    \n",
    "#     For all the single strings\n",
    "    i=0\n",
    "    while(i<k):\n",
    "        mat[i][i]=True\n",
    "        i=i+1\n",
    "    l=1\n",
    "#For all the two length substrings\n",
    "    i=0\n",
    "    while(i<k-1):\n",
    "        if s[i]==s[i+1]:\n",
    "            mat[i][i+1]=True\n",
    "            start=i\n",
    "            l=2\n",
    "        i=i+1\n",
    "#Bottom up order\n",
    "    i=0\n",
    "    for i in range(k-2,-1,-1):\n",
    "        for j in range(i+2,k):\n",
    "#             print(mat[i+1][j-1], mat[i][j])\n",
    "            if mat[i+1][j-1] and s[i]==s[j]:\n",
    "                mat[i][j]=True\n",
    "                if j-i+1 > l:\n",
    "                    start=i\n",
    "                    l=j-i+1\n",
    "                \n",
    "    return l,s[start:start+l]\n",
    "\n",
    "print(long(\"aaabaa\"))      "
   ]
  },
  {
   "cell_type": "markdown",
   "metadata": {},
   "source": [
    "# Longest Palindromic substring"
   ]
  },
  {
   "cell_type": "code",
   "execution_count": null,
   "metadata": {},
   "outputs": [],
   "source": [
    "Time and Space O(n^2) and O(1)"
   ]
  },
  {
   "cell_type": "code",
   "execution_count": 37,
   "metadata": {},
   "outputs": [
    {
     "name": "stdout",
     "output_type": "stream",
     "text": [
      "(2, 'bb')\n"
     ]
    }
   ],
   "source": [
    "def long1(s):\n",
    "    l=1\n",
    "    for i in range(1,len(s)):\n",
    "        low=i-1\n",
    "        high=i\n",
    "        #Getting even length palindromes\n",
    "        while(low >=0 and high < len(s) and s[low]==s[high]):\n",
    "            if high-low+1 > l:\n",
    "                start=low\n",
    "                l=high-low+1\n",
    "            low-=1\n",
    "            high+=1\n",
    "            #Getting odd length palindromes\n",
    "        low=i-1\n",
    "        high=i+1\n",
    "        while(low >=0 and high < len(s) and s[low]==s[high]):\n",
    "#             print(i,s[low],s[high],high-low+1)\n",
    "            if high-low+1 > l:\n",
    "                start=low\n",
    "                l=high-low+1\n",
    "#                 print(\"max\",l)\n",
    "            low-=1\n",
    "            high+=1         \n",
    "    return s[start:start+l]\n",
    "print(long1(\"cbbd\"))       "
   ]
  },
  {
   "cell_type": "markdown",
   "metadata": {},
   "source": [
    "# Counting the substrings"
   ]
  },
  {
   "cell_type": "code",
   "execution_count": null,
   "metadata": {},
   "outputs": [],
   "source": [
    "count parameter and then the count +len(s) return"
   ]
  },
  {
   "cell_type": "markdown",
   "metadata": {},
   "source": [
    "# Longest Palindromic Subsequence"
   ]
  },
  {
   "cell_type": "code",
   "execution_count": 40,
   "metadata": {},
   "outputs": [
    {
     "name": "stdout",
     "output_type": "stream",
     "text": [
      "(7, 0)\n"
     ]
    }
   ],
   "source": [
    "def lsd(s):\n",
    "    l=1\n",
    "    for i in range(1,len(s)):\n",
    "        low=i-1\n",
    "        high=i\n",
    "        #Getting even length palindromes\n",
    "        while(low >=0 and high < len(s)):\n",
    "            if s[low]==s[high]:\n",
    "                if high-low+1 > l:\n",
    "                    start=low\n",
    "                    l=high-low+1\n",
    "# I cannot use two pointer approach\n",
    "#             low-=1\n",
    "#             high+=1\n",
    "            #Getting odd length palindromes\n",
    "        low=i-1\n",
    "        high=i+1\n",
    "        while(low >=0 and high < len(s)):\n",
    "            if s[low]==s[high]:\n",
    "    #             print(i,s[low],s[high],high-low+1)\n",
    "                if high-low+1 > l:\n",
    "                    start=low\n",
    "                    l=high-low+1\n",
    "#                 print(\"max\",l)\n",
    "#             low-=1\n",
    "#             high+=1         \n",
    "    return l,start\n",
    "print(lsd(\"cbeadecbd\")) \n"
   ]
  },
  {
   "cell_type": "markdown",
   "metadata": {},
   "source": [
    "# Longest Palindromic Subsequence\n",
    "\n"
   ]
  },
  {
   "cell_type": "code",
   "execution_count": 1,
   "metadata": {},
   "outputs": [
    {
     "name": "stdout",
     "output_type": "stream",
     "text": [
      "[[1, 1, 1, 1, 3, 5, 5, 5, 5, 7, 7, 7, 7, 7, 7, 9, 9, 10, 12, 14], [0, 1, 1, 1, 3, 3, 3, 3, 5, 7, 7, 7, 7, 7, 7, 7, 8, 10, 12, 14], [0, 0, 1, 1, 1, 1, 1, 3, 5, 7, 7, 7, 7, 7, 7, 7, 8, 10, 12, 14], [0, 0, 0, 1, 1, 1, 1, 3, 5, 5, 5, 5, 5, 5, 5, 6, 8, 10, 12, 14], [0, 0, 0, 0, 1, 1, 1, 3, 3, 3, 3, 3, 3, 3, 4, 6, 8, 10, 12, 12], [0, 0, 0, 0, 0, 1, 1, 3, 3, 3, 3, 3, 3, 3, 4, 6, 8, 10, 10, 10], [0, 0, 0, 0, 0, 0, 1, 1, 1, 1, 1, 1, 1, 2, 4, 6, 8, 8, 8, 8], [0, 0, 0, 0, 0, 0, 0, 1, 1, 1, 1, 1, 1, 2, 4, 6, 6, 6, 6, 6], [0, 0, 0, 0, 0, 0, 0, 0, 1, 1, 1, 1, 1, 2, 4, 4, 4, 4, 4, 5], [0, 0, 0, 0, 0, 0, 0, 0, 0, 1, 1, 1, 1, 2, 2, 2, 2, 3, 3, 5], [0, 0, 0, 0, 0, 0, 0, 0, 0, 0, 1, 1, 1, 2, 2, 2, 2, 3, 3, 5], [0, 0, 0, 0, 0, 0, 0, 0, 0, 0, 0, 1, 1, 2, 2, 2, 2, 3, 3, 5], [0, 0, 0, 0, 0, 0, 0, 0, 0, 0, 0, 0, 1, 2, 2, 2, 2, 3, 3, 5], [0, 0, 0, 0, 0, 0, 0, 0, 0, 0, 0, 0, 0, 1, 1, 1, 1, 3, 3, 5], [0, 0, 0, 0, 0, 0, 0, 0, 0, 0, 0, 0, 0, 0, 1, 1, 1, 3, 3, 5], [0, 0, 0, 0, 0, 0, 0, 0, 0, 0, 0, 0, 0, 0, 0, 1, 1, 3, 3, 3], [0, 0, 0, 0, 0, 0, 0, 0, 0, 0, 0, 0, 0, 0, 0, 0, 1, 1, 1, 1], [0, 0, 0, 0, 0, 0, 0, 0, 0, 0, 0, 0, 0, 0, 0, 0, 0, 1, 1, 1], [0, 0, 0, 0, 0, 0, 0, 0, 0, 0, 0, 0, 0, 0, 0, 0, 0, 0, 1, 1], [0, 0, 0, 0, 0, 0, 0, 0, 0, 0, 0, 0, 0, 0, 0, 0, 0, 0, 0, 1]]\n",
      "14\n"
     ]
    }
   ],
   "source": [
    "def lsd(s):\n",
    "    k=len(s)\n",
    "    mat=[[0 for j in range(k)]for i in range(k)]\n",
    "    i=0\n",
    "    while(i<k):\n",
    "        mat[i][i]=1\n",
    "        i=i+1\n",
    "    i=0\n",
    "    #Substrings of size 2\n",
    "    while(i<k-1):\n",
    "        if s[i]==s[i+1]:\n",
    "            mat[i][i+1]=2\n",
    "        else:\n",
    "            mat[i][i+1]=1\n",
    "        i=i+1\n",
    "    #Sub strings of size 3\n",
    "    #Bottom up order\n",
    "    #Mat[i][j] is storing the number which contains the longest palindromic subsequence\n",
    "    for i in range(k-2,-1,-1):\n",
    "        for j in range(i+2,k):\n",
    "            if s[i]==s[j]:\n",
    "                mat[i][j]=mat[i+1][j-1]+2\n",
    "                \n",
    "#Only difference between the longest palindromic sequence---> \n",
    "            else:\n",
    "                mat[i][j]=max(mat[i][j-1],mat[i+1][j])\n",
    "    print(mat)\n",
    "    return mat[0][k-1]\n",
    "\n",
    "print(lsd(\"abecbaracekillcarabc\")) "
   ]
  },
  {
   "cell_type": "code",
   "execution_count": 48,
   "metadata": {},
   "outputs": [
    {
     "name": "stdout",
     "output_type": "stream",
     "text": [
      "[[1, 1, 1, 1, 1, 3, 5, 5, 5], [0, 1, 1, 1, 1, 3, 3, 5, 5], [0, 0, 1, 1, 1, 3, 3, 3, 3], [0, 0, 0, 1, 1, 1, 1, 1, 3], [0, 0, 0, 0, 1, 1, 1, 1, 3], [0, 0, 0, 0, 0, 1, 1, 1, 1], [0, 0, 0, 0, 0, 0, 1, 1, 1], [0, 0, 0, 0, 0, 0, 0, 1, 1], [0, 0, 0, 0, 0, 0, 0, 0, 1]]\n",
      "5\n"
     ]
    }
   ],
   "source": [
    "def lsd(s):\n",
    "    k=len(s)\n",
    "    mat=[[0 for j in range(k)]for i in range(k)]\n",
    "    i=0\n",
    "    while(i<k):\n",
    "        mat[i][i]=1\n",
    "        i=i+1\n",
    "    i=0\n",
    "    #Substrings of size 2\n",
    "    while(i<k-1):\n",
    "        if s[i]==s[i+1]:\n",
    "            mat[i][i+1]=2\n",
    "        else:\n",
    "            mat[i][i+1]=1\n",
    "        i=i+1\n",
    "    #Sub strings of size 3\n",
    "    #Bottom up order\n",
    "    #Mat[i][j] is storing the number which contains the longest palindromic subsequence\n",
    "    for i in range(k-2,-1,-1):\n",
    "        for j in range(i+2,k):\n",
    "            if s[i]==s[j]:\n",
    "                mat[i][j]=mat[i+1][j-1]+2\n",
    "            else:\n",
    "                mat[i][j]=max(mat[i][j-1],mat[i+1][j])\n",
    "    print(mat)\n",
    "    return mat[0][k-1]\n",
    "\n",
    "print(lsd(\"cbeadecbd\")) "
   ]
  },
  {
   "cell_type": "code",
   "execution_count": 46,
   "metadata": {},
   "outputs": [],
   "source": [
    "# To print the longest palindromic subsequence."
   ]
  },
  {
   "cell_type": "code",
   "execution_count": null,
   "metadata": {},
   "outputs": [],
   "source": [
    "#longest prefix suffix array"
   ]
  },
  {
   "cell_type": "code",
   "execution_count": 53,
   "metadata": {},
   "outputs": [
    {
     "name": "stdout",
     "output_type": "stream",
     "text": [
      "[0, 1, 0, 1, 2, 0, 1, 2, 3, 4, 5]\n"
     ]
    }
   ],
   "source": [
    "def love(s):\n",
    "    l=[0 for i in range(len(s))]\n",
    "    j=0\n",
    "    i=1\n",
    "    k=1\n",
    "    while(k != len(s)):\n",
    "        if s[j]==s[i]:\n",
    "            l[k]=j+1\n",
    "            j=j+1\n",
    "            i=i+1\n",
    "        else:\n",
    "            while(True):\n",
    "                j=l[j-1]\n",
    "                if s[j]==s[i]:\n",
    "                    l[k]=j+1\n",
    "                    j=j+1\n",
    "                    i=i+1\n",
    "                    break\n",
    "                if j==0:\n",
    "                    if s[j]==s[i]:\n",
    "                        l[k]=1\n",
    "                        j=j+1\n",
    "                        i=i+1\n",
    "                        break\n",
    "                    else:\n",
    "                        l[k]=0\n",
    "                        i=i+1\n",
    "                        break\n",
    "        k=k+1\n",
    "    return l\n",
    "\n",
    "print(love(\"aabaacaabaa\"))"
   ]
  },
  {
   "cell_type": "markdown",
   "metadata": {},
   "source": [
    "# Longest Increasing Subsequence\n"
   ]
  },
  {
   "cell_type": "code",
   "execution_count": 69,
   "metadata": {},
   "outputs": [
    {
     "name": "stdout",
     "output_type": "stream",
     "text": [
      "5\n"
     ]
    }
   ],
   "source": [
    "'''\n",
    "128349567 is the sequence of numbers.\n",
    "dp[i]= lenght of the longest increasing sequence till i \n",
    "      This is wrong including the ith element.\n",
    "dp[0]=1\n",
    "dp[i]= if A[i] > A[i-1]:\n",
    "            dp[i]=dp[i-1]+1 \n",
    "            This you can write only when you are including the ith element\n",
    "        else:\n",
    "            search for j such that A[i] > A[j]\n",
    "\n",
    "The following solution is of O(n^2)\n",
    "\n",
    "def lis(a):\n",
    "    mat=[1 for i in range(len(a))]\n",
    "    for i in range(1,len(a)):\n",
    "        if a[i]> a[i-1]:\n",
    "            mat[i]=mat[i-1]+1\n",
    "        else:\n",
    "            k=i-1\n",
    "            while(True):\n",
    "                if k>-1 and a[k]< a[i]:\n",
    "                    mat[i]=mat[k]+1\n",
    "                    break\n",
    "                k=k-1\n",
    "    print(mat)\n",
    "    return max(mat)\n",
    "print(lis(\"128349567\"))\n",
    "print(lis(\"3410623\"))\n",
    "'''\n",
    "# LIS is defined as the lenght of the longest subsequence till i --- O(n^2)\n",
    "def lis(a):\n",
    "    mat=[1 for i in range(len(a))]\n",
    "    for i in range(1,len(a)):\n",
    "        for j in (range(i)):\n",
    "            if a[i] > a[j]:\n",
    "                mat[i]=max(mat[i], mat[j]+1)\n",
    "    return max(mat)\n",
    "print(lis([1,3,4,-1,5,0,6,2,3]))"
   ]
  },
  {
   "cell_type": "code",
   "execution_count": 71,
   "metadata": {},
   "outputs": [
    {
     "name": "stdout",
     "output_type": "stream",
     "text": [
      "4\n"
     ]
    }
   ],
   "source": [
    "print(lis([3,4,-1,0,6,2,3]))"
   ]
  },
  {
   "cell_type": "markdown",
   "metadata": {},
   "source": [
    "# Longest alternating Subsequence"
   ]
  },
  {
   "cell_type": "code",
   "execution_count": 8,
   "metadata": {},
   "outputs": [],
   "source": [
    "'''\n",
    "As per our notebook, it can go up \n",
    "S[i,+]--- length of the longest Starting at i the sequence and goes up\n",
    "S[i,-]--- length of the longest Starting at i the sequence and goes down\n",
    "\n",
    "S[n,+]=1\n",
    "S[n,-]=1\n",
    "\n",
    "S[i,+]=max_j>= i+1     {s[j,-] +1 if A[j] > A[i] }\n",
    "S[i,-]=max_j>= i+1     {s[j,+] +1 if A[j] < A[i] }\n",
    "\n",
    "return s[0,+]\n",
    "Take -infinity at the starting of the string\n",
    "'''\n",
    "class Solution:\n",
    "    def wiggleMaxLength(self, nums):\n",
    "        \"\"\"\n",
    "        :type nums: List[int]\n",
    "        :rtype: int\n",
    "        up[i] stores the index of the wiggle sequence ending at i with the rise up\n",
    "        Perform the case analysis\n",
    "        This is the problem where you can use two dp arrays based on the state.\n",
    "        k=len(nums)\n",
    "        up=[0 for i in range(k)]\n",
    "        down=[0 for i in range(k)]\n",
    "        up[0]=1\n",
    "        down[0]=1\n",
    "        for i in range(1,k):\n",
    "            if nums[i]>nums[i-1]:\n",
    "                up[i]=down[i-1]+1\n",
    "                down[i]=down[i-1]   \n",
    "            elif nums[i]< nums[i-1]:\n",
    "                down[i]=up[i-1]+1\n",
    "                up[i]=up[i-1]\n",
    "            else:\n",
    "                down[i]=down[i-1]\n",
    "                up[i]=up[i-1]\n",
    "        return max(up[k-1],down[k-1])\n",
    "        \n",
    "        \n",
    "        Wiggle sequence\n",
    "        \"\"\"\n",
    "        k=len(nums)\n",
    "        if k<=1:\n",
    "            return k\n",
    "        up=[0 for i in range(k)]\n",
    "        down=[0 for i in range(k)]\n",
    "        up[0]=1\n",
    "        down[0]=1\n",
    "        for i in range(1,k):\n",
    "            if nums[i]>nums[i-1]:\n",
    "                up[i]=down[i-1]+1\n",
    "                down[i]=down[i-1]\n",
    "                \n",
    "            elif nums[i]< nums[i-1]:\n",
    "                down[i]=up[i-1]+1\n",
    "                up[i]=up[i-1]\n",
    "            else:\n",
    "                down[i]=down[i-1]\n",
    "                up[i]=up[i-1]\n",
    "        return max(up[k-1],down[k-1])\n"
   ]
  },
  {
   "cell_type": "code",
   "execution_count": 9,
   "metadata": {},
   "outputs": [
    {
     "data": {
      "text/plain": [
       "5"
      ]
     },
     "execution_count": 9,
     "metadata": {},
     "output_type": "execute_result"
    }
   ],
   "source": [
    "s=\"24567\"\n",
    "t=Solution()\n",
    "t.wiggleMaxLength([3,2,1,8,6,7])"
   ]
  },
  {
   "cell_type": "markdown",
   "metadata": {},
   "source": [
    "# Shortest common supersequence"
   ]
  },
  {
   "cell_type": "code",
   "execution_count": null,
   "metadata": {},
   "outputs": [],
   "source": [
    "'''\n",
    "Let A[1,....m] and B[1....n] are two strings. I need to find the shortest super sequence\n",
    "\n",
    "S[i,j] represents the length of the shortest common supersequence for A[1,,,i], B[1...j]\n",
    "\n",
    "if A[i]==A[j]:\n",
    "    a=S[i-1,j-1]+1\n",
    "else:\n",
    "    b=S[i-1,j]+1----He can include A[i]\n",
    "    c=S[i,j-1]+1----He can include B[j]\n",
    "    \n",
    "S[i,j]=min(a,b,c)\n",
    "Final answer\n",
    "S[m,n]\n",
    "\n",
    "Base case\n",
    "S[0,j]=j\n",
    "S[i,0]=i\n",
    "'''\n"
   ]
  },
  {
   "cell_type": "code",
   "execution_count": 57,
   "metadata": {},
   "outputs": [
    {
     "name": "stdout",
     "output_type": "stream",
     "text": [
      "12\n",
      "12\n"
     ]
    }
   ],
   "source": [
    "def super(A,B):\n",
    "    mat=[[0 for i in range(len(B)+1)] for j in range(len(A)+1)]\n",
    "    j=0\n",
    "    while(j<len(B)+1):\n",
    "        mat[0][j]=j\n",
    "        j=j+1\n",
    "    i=0\n",
    "    while(i<len(A)+1):\n",
    "        mat[i][0]=i\n",
    "        i=i+1\n",
    "#     Filling up the base conditions.    \n",
    "    for i in range(1,len(A)+1):\n",
    "        for j in range(1,len(B)+1):\n",
    "            if A[i-1]==B[j-1]:\n",
    "                mat[i][j]= mat[i-1][j-1]+1\n",
    "            else:\n",
    "                mat[i][j]=min(mat[i-1][j],mat[i][j-1])+1\n",
    "#     print(mat)\n",
    "    return mat[len(A)][len(B)]\n",
    "\n",
    "\n",
    "print(super(\"algorithm\", \"algebra\"))\n",
    "\n",
    "print(len(\"algeboraithm\"))\n",
    "    "
   ]
  },
  {
   "cell_type": "markdown",
   "metadata": {},
   "source": [
    "# Coin change problem"
   ]
  },
  {
   "cell_type": "code",
   "execution_count": null,
   "metadata": {},
   "outputs": [],
   "source": [
    " dp[i] is the fewest number of coins making up amount i, then for every coin in coins, dp[i] = min(dp[i - coin] + 1)"
   ]
  },
  {
   "cell_type": "code",
   "execution_count": null,
   "metadata": {},
   "outputs": [],
   "source": [
    "Ticket problem"
   ]
  },
  {
   "cell_type": "code",
   "execution_count": null,
   "metadata": {},
   "outputs": [],
   "source": [
    "Cost tickets problem\n",
    "        import collections\n",
    "        days_dict = collections.Counter(days)\n",
    "        \n",
    "        # Create a table of all the day cost\n",
    "        # * Instead of creating a 365 days table, we create until the last day on the days list\n",
    "        table = [0 for i in range(0, days[-1]+1)]\n",
    "        \n",
    "        for i in range(0, days[-1]+1):\n",
    "            # If the current day is not present in the travel days dictionary, it takes the previous value\n",
    "            if i not in days_dict:\n",
    "                table[i] = table[i-1]\n",
    "            else:\n",
    "                # Used max to identify if the index exists \n",
    "                table[i] = min(\n",
    "                    table[max(0,i-1)]+costs[0], # per days value\n",
    "                    table[max(0,i-7)]+costs[1], # per week value\n",
    "                    table[max(0,i-30)]+costs[2] # per year value\n",
    "                )\n",
    "       \n",
    "        return table[-1]\n"
   ]
  },
  {
   "cell_type": "markdown",
   "metadata": {},
   "source": [
    "# Unique BST"
   ]
  },
  {
   "cell_type": "code",
   "execution_count": null,
   "metadata": {},
   "outputs": [],
   "source": [
    "Catalan number\n"
   ]
  },
  {
   "cell_type": "markdown",
   "metadata": {},
   "source": [
    "# Generating the unique BST"
   ]
  },
  {
   "cell_type": "code",
   "execution_count": null,
   "metadata": {},
   "outputs": [],
   "source": []
  },
  {
   "cell_type": "code",
   "execution_count": null,
   "metadata": {},
   "outputs": [],
   "source": []
  },
  {
   "cell_type": "markdown",
   "metadata": {},
   "source": [
    "# linking the node"
   ]
  },
  {
   "cell_type": "code",
   "execution_count": 3,
   "metadata": {},
   "outputs": [
    {
     "data": {
      "image/jpeg": "[encoded data removed]",
      "text/plain": [
       "<IPython.core.display.Image object>"
      ]
     },
     "execution_count": 3,
     "metadata": {
      "image/jpeg": {
       "height": 800,
       "width": 600
      }
     },
     "output_type": "execute_result"
    }
   ],
   "source": [
    "from IPython.display import Image\n",
    "Image('/Users/sriramreddy/Downloads/Link.jpg',width=600, height=800)"
   ]
  },
  {
   "cell_type": "code",
   "execution_count": null,
   "metadata": {},
   "outputs": [],
   "source": []
  },
  {
   "cell_type": "code",
   "execution_count": null,
   "metadata": {},
   "outputs": [],
   "source": [
    "    def distanceK(self, root, target, K):\n",
    "        \"\"\"\n",
    "        :type root: TreeNode\n",
    "        :type target: TreeNode\n",
    "        :type K: int\n",
    "        :rtype: List[int]\n",
    "        \"\"\"\n",
    "        def dfs(root,par):\n",
    "            if root:\n",
    "                root.par=par\n",
    "            if root.left:\n",
    "                dfs(root.left,root)\n",
    "            if root.right:\n",
    "                dfs(root.right,root)\n",
    "        dfs(root,None)\n",
    "        q=collections.deque([(target,0)])\n",
    "        seen={target}\n",
    "        while(q):\n",
    "            if q[0][1]==K:\n",
    "                return [node.val for node,i in q]\n",
    "            node,d=q.popleft()\n",
    "            for i in (node.right, node.left, node.par):\n",
    "                if i and (i not in seen):\n",
    "                    #The reason for this is bcoz of node.parent\n",
    "                    seen.add(i)\n",
    "                    q.append([i,d+1])\n",
    "        return []"
   ]
  },
  {
   "cell_type": "markdown",
   "metadata": {},
   "source": [
    "# Path sum III"
   ]
  },
  {
   "cell_type": "code",
   "execution_count": null,
   "metadata": {},
   "outputs": [],
   "source": [
    "    def find_paths(self,root,target):\n",
    "        if root:\n",
    "            return int(root.val==target) + self.find_paths(root.left, target-root.val)+self.find_paths(root.right,target-root.val)\n",
    "        return 0\n",
    "    \n",
    "    def pathSum(self, root, sum):\n",
    "        \"\"\"\n",
    "        :type root: TreeNode\n",
    "        :type sum: int\n",
    "        :rtype: int\n",
    "        \"\"\"\n",
    "        if root:\n",
    "            return self.find_paths(root,sum)+self.pathSum(root.left,sum)+self.pathSum(root.right,sum)\n",
    "        return 0"
   ]
  },
  {
   "cell_type": "code",
   "execution_count": null,
   "metadata": {},
   "outputs": [],
   "source": []
  },
  {
   "cell_type": "code",
   "execution_count": null,
   "metadata": {},
   "outputs": [],
   "source": []
  },
  {
   "cell_type": "code",
   "execution_count": null,
   "metadata": {},
   "outputs": [],
   "source": []
  },
  {
   "cell_type": "markdown",
   "metadata": {},
   "source": [
    "# Game tic tac toe"
   ]
  },
  {
   "cell_type": "code",
   "execution_count": null,
   "metadata": {},
   "outputs": [],
   "source": [
    "Only thing to check from programming perspective\n",
    "whether it is forming line of three\n",
    "\n",
    "Which data structure is good for storing this?\n",
    "\n",
    "Brute force\n",
    "Check for each and every block and its neighbours whether they can form a line of 3\n",
    "\n",
    "Maintain a memory of 3,3,2---- for the two diagonals\n",
    "Everytime, a players enters, he will update the four values. \n",
    "While updating the four values, if the count is 0, then that player wins. \n",
    "Game restarts with an empty block."
   ]
  },
  {
   "cell_type": "markdown",
   "metadata": {},
   "source": [
    "# Queue Data Structure"
   ]
  },
  {
   "cell_type": "code",
   "execution_count": 11,
   "metadata": {},
   "outputs": [
    {
     "name": "stdout",
     "output_type": "stream",
     "text": [
      "deque(['Ram', 'Tarun', 'Asif', 'John'])\n",
      "deque(['Ram', 'Tarun', 'Asif', 'John', 'Akbar'])\n",
      "hi\n",
      "Ram\n",
      "Ram\n",
      "Tarun\n",
      "Tarun\n",
      "deque(['Asif', 'John', 'Akbar', 'Birbal'])\n",
      "Asif\n"
     ]
    }
   ],
   "source": [
    "from collections import deque \n",
    "queue = deque([\"Ram\", \"Tarun\", \"Asif\", \"John\"]) \n",
    "print(queue) \n",
    "queue.append(\"Akbar\") \n",
    "print(queue) \n",
    "queue.append(\"Birbal\") \n",
    "print(\"hi\")\n",
    "print(queue[0]) \n",
    "print(queue.popleft())  \n",
    "print(queue[0]) \n",
    "print(queue.popleft())                  \n",
    "print(queue)\n",
    "print(queue[0]) "
   ]
  },
  {
   "cell_type": "code",
   "execution_count": 28,
   "metadata": {},
   "outputs": [],
   "source": [
    "import heapq\n",
    "class PriorityQueue(object):\n",
    "    '''Variant of Queue that retrieves open entries in priority order (lowest first).\n",
    "    Entries are typically tuples of the form:  (priority number, data).\n",
    "    '''\n",
    "    def __init__(self, lis=[],maxsize=None):\n",
    "        self.queue = heapq.heapify(lis)\n",
    "    def size(self):\n",
    "        return len(self.queue)\n",
    "    def push(self, item):\n",
    "        heapq.heappush(self.queue, item)\n",
    "    def pop(self):\n",
    "        return heapq.heappop(self.queue)\n"
   ]
  },
  {
   "cell_type": "code",
   "execution_count": 37,
   "metadata": {},
   "outputs": [
    {
     "name": "stdout",
     "output_type": "stream",
     "text": [
      "[3, 8, 6] <class 'list'> -1 [3, 8, 6]\n"
     ]
    }
   ],
   "source": [
    "# #Constructing the min heap\n",
    "# p=PriorityQueue([3,8,6,-1])\n",
    "# print(p)\n",
    "# p.push(2)\n",
    "# p.push(1)\n",
    "# print(p.pop())\n",
    "import heapq\n",
    "p=[]\n",
    "for i in [3,8,6,-1]:\n",
    "    heapq.heappush(p,i)\n",
    "print(p,type(p),heapq.heappop(p),p)\n",
    "# heapq.heappush(p,1)"
   ]
  },
  {
   "cell_type": "markdown",
   "metadata": {},
   "source": [
    "# Heap from scratch\n",
    "\n",
    "Things to be taken care:\n",
    "\n",
    "Array implementation of the heap\n",
    "parent, left child, right child\n",
    "peek---- just return the array[0]\n",
    "push---- \n",
    "check for the size of the array\n",
    "pushing the element to the end of the array with the size parameter \n",
    "increment the size\n",
    "and then heapifyup by swapping the root node if it is less than the root node \n",
    "and then continuing the process till it reaches the root node. \n",
    "heapifyup\n",
    "\n",
    "popping the min and you will be replacing the last array element with the minimum element and decrement the size \n",
    "\n",
    "heapifydown\n"
   ]
  },
  {
   "cell_type": "code",
   "execution_count": null,
   "metadata": {},
   "outputs": [],
   "source": [
    "Class Heap(object):\n",
    "    \"\"\"\n",
    "    ilc, irc,ip---- index of the left, right and parent\n",
    "    \"\"\"\n",
    "    def __init__(self,size):\n",
    "        self.stack=[]*size\n",
    "        self.size=size\n",
    "    def ilc(self,index):\n",
    "        return 2*index+1\n",
    "    \n",
    "    \n",
    "        "
   ]
  },
  {
   "cell_type": "code",
   "execution_count": null,
   "metadata": {},
   "outputs": [],
   "source": []
  },
  {
   "cell_type": "code",
   "execution_count": null,
   "metadata": {},
   "outputs": [],
   "source": []
  }
 ],
 "metadata": {
  "kernelspec": {
   "display_name": "Python 3",
   "language": "python",
   "name": "python3"
  },
  "language_info": {
   "codemirror_mode": {
    "name": "ipython",
    "version": 3
   },
   "file_extension": ".py",
   "mimetype": "text/x-python",
   "name": "python",
   "nbconvert_exporter": "python",
   "pygments_lexer": "ipython3",
   "version": "3.6.6"
  }
 },
 "nbformat": 4,
 "nbformat_minor": 2
}
