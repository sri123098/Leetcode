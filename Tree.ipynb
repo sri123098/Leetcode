{
 "cells": [
  {
   "cell_type": "markdown",
   "metadata": {},
   "source": [
    "# Tree"
   ]
  },
  {
   "cell_type": "code",
   "execution_count": 8,
   "metadata": {},
   "outputs": [],
   "source": [
    "class TreeNode():\n",
    "    def __init__(self, data):\n",
    "        self.val = data\n",
    "        self.left = None\n",
    "        self.right = None\n",
    "#c has to be in small letter in class."
   ]
  },
  {
   "cell_type": "code",
   "execution_count": 9,
   "metadata": {},
   "outputs": [],
   "source": [
    "p=TreeNode(3)\n",
    "q=TreeNode(4)\n",
    "r=TreeNode(5)\n",
    "s=TreeNode(6)\n",
    "t=TreeNode(7)\n",
    "u=TreeNode(8)\n",
    "v=TreeNode(9)\n",
    "s.left = q\n",
    "s.right = u\n",
    "q.left = p\n",
    "q.right = r\n",
    "u.left = t \n",
    "u.right = v"
   ]
  },
  {
   "cell_type": "markdown",
   "metadata": {},
   "source": [
    "                     6\n",
    "               4          8\n",
    "          3       5     7     9"
   ]
  },
  {
   "cell_type": "code",
   "execution_count": null,
   "metadata": {},
   "outputs": [],
   "source": [
    "Inorder traversal of this should be 3,4,5,6,7,8,9"
   ]
  },
  {
   "cell_type": "markdown",
   "metadata": {},
   "source": [
    "# Inorder traversal"
   ]
  },
  {
   "cell_type": "code",
   "execution_count": 18,
   "metadata": {},
   "outputs": [
    {
     "name": "stdout",
     "output_type": "stream",
     "text": [
      "[3, 4, 5, 6, 7, 8, 9]\n"
     ]
    }
   ],
   "source": [
    "#Recursion solution\n",
    "out =[]\n",
    "def inorder(root):\n",
    "    if root is None:\n",
    "        return\n",
    "    inorder(root.left)\n",
    "    out.append(root.val)\n",
    "    inorder(root.right)\n",
    "    return out\n",
    "print(inorder(s))"
   ]
  },
  {
   "cell_type": "code",
   "execution_count": 19,
   "metadata": {},
   "outputs": [
    {
     "name": "stdout",
     "output_type": "stream",
     "text": [
      "[3, 4, 5, 6, 7, 8, 9]\n"
     ]
    }
   ],
   "source": [
    "#Iterative solution Use a stack and then you can iteratively go ahead till the left portion and then go ahead with \n",
    "# the right portion. \n",
    "def inorder_iter(root):\n",
    "    if root is None:\n",
    "        return []\n",
    "    stack = []\n",
    "    res=[]\n",
    "    while(stack or root):\n",
    "        if root:\n",
    "            stack.append(root)\n",
    "            root = root.left\n",
    "        else:\n",
    "            root = stack.pop()\n",
    "            res.append(root.val)\n",
    "            root = root.right\n",
    "    return res\n",
    "print(inorder_iter(s))"
   ]
  },
  {
   "cell_type": "markdown",
   "metadata": {},
   "source": [
    "# Postorder traversal"
   ]
  },
  {
   "cell_type": "code",
   "execution_count": 13,
   "metadata": {},
   "outputs": [
    {
     "name": "stdout",
     "output_type": "stream",
     "text": [
      "[3, 5, 4, 7, 9, 8, 6]\n"
     ]
    }
   ],
   "source": [
    "out =[]\n",
    "def postorder(root):\n",
    "    if root is None:\n",
    "        return\n",
    "    postorder(root.left)\n",
    "    postorder(root.right)\n",
    "    out.append(root.val)\n",
    "    return out\n",
    "print(postorder(s))"
   ]
  },
  {
   "cell_type": "markdown",
   "metadata": {},
   "source": [
    "Post order should be 3,5,4,7,9,8,6"
   ]
  },
  {
   "cell_type": "code",
   "execution_count": 24,
   "metadata": {},
   "outputs": [
    {
     "name": "stdout",
     "output_type": "stream",
     "text": [
      "[3, 5, 4, 7, 9, 8, 6]\n"
     ]
    }
   ],
   "source": [
    "#Post order traversal in iterative way\n",
    "#Reverse pre order by storing some thing extra in stack\n",
    "def postorder_iter(root):\n",
    "    if root is None:\n",
    "        return\n",
    "    stack = [(root, False)]\n",
    "    res = []\n",
    "    while(stack):\n",
    "        (node,visited) = stack.pop()\n",
    "        if node:\n",
    "            if visited:\n",
    "                res.append(node.val)\n",
    "                #else block is saving me a lot\n",
    "            else:\n",
    "                stack.append((node, True))\n",
    "                stack.append((node.right, False))\n",
    "                stack.append((node.left, False))\n",
    "    return res\n",
    "print(postorder_iter(s))"
   ]
  },
  {
   "cell_type": "code",
   "execution_count": 23,
   "metadata": {},
   "outputs": [
    {
     "name": "stdout",
     "output_type": "stream",
     "text": [
      "[3, 5, 4, 7, 9, 8, 6]\n"
     ]
    }
   ],
   "source": [
    "#Logic here is that when ever the node is visited is using 2 stacks,\n",
    "#use the normal left and right traversal, then you can utilize the result array. \n",
    "#This is the same thing which I'm using for post order traversal of tree\n",
    "def postorder_iter(root):\n",
    "    if root is None:\n",
    "        return\n",
    "    stack = [root]\n",
    "    res = []\n",
    "    while(stack):\n",
    "        node = stack.pop()\n",
    "        res.append(node.val)\n",
    "        if node.left:\n",
    "            stack.append(node.left)\n",
    "        if node.right:\n",
    "            stack.append(node.right)\n",
    "    return res[::-1]\n",
    "print(postorder_iter(s))\n"
   ]
  },
  {
   "cell_type": "markdown",
   "metadata": {},
   "source": [
    "# Preorder traversal"
   ]
  },
  {
   "cell_type": "code",
   "execution_count": 14,
   "metadata": {},
   "outputs": [
    {
     "name": "stdout",
     "output_type": "stream",
     "text": [
      "[6, 4, 3, 5, 8, 7, 9]\n"
     ]
    }
   ],
   "source": [
    "out =[]\n",
    "def preorder(root):\n",
    "    if root is None:\n",
    "        return\n",
    "    out.append(root.val)\n",
    "    preorder(root.left)\n",
    "    preorder(root.right)\n",
    "    return out\n",
    "print(preorder(s))"
   ]
  },
  {
   "cell_type": "markdown",
   "metadata": {},
   "source": [
    " Preorder should be correct. 6, 4, 3, 5, 8, 7, 9"
   ]
  },
  {
   "cell_type": "code",
   "execution_count": 20,
   "metadata": {},
   "outputs": [
    {
     "name": "stdout",
     "output_type": "stream",
     "text": [
      "[6, 4, 3, 5, 8, 7, 9]\n"
     ]
    }
   ],
   "source": [
    "def preorder_iter(root):\n",
    "    if root is None:\n",
    "        return []\n",
    "    stack = [root]\n",
    "    res=[]\n",
    "    while(stack):\n",
    "        node = stack.pop()\n",
    "        res.append(node.val)\n",
    "        if node.right:\n",
    "            stack.append(node.right)\n",
    "        if node.left:\n",
    "            stack.append(node.left)\n",
    "    return res\n",
    "print(preorder_iter(s))"
   ]
  },
  {
   "cell_type": "markdown",
   "metadata": {},
   "source": [
    "# Level order traversal"
   ]
  },
  {
   "cell_type": "code",
   "execution_count": 27,
   "metadata": {},
   "outputs": [
    {
     "name": "stdout",
     "output_type": "stream",
     "text": [
      "[[6], [4, 8], [3, 5, 7, 9]]\n"
     ]
    }
   ],
   "source": [
    "from collections import deque\n",
    "def level_order(root):\n",
    "    res = []\n",
    "    if root is None:\n",
    "        return res\n",
    "    q = deque()\n",
    "    q.append(root)    \n",
    "    \n",
    "    level = 0\n",
    "    while(q):\n",
    "        res.append([]) #Empty list has been updated by the current element as the empty list\n",
    "        for i in range(len(q)):\n",
    "            node = q.popleft()\n",
    "            res[level].append(node.val)\n",
    "            if node.left:\n",
    "                q.append(node.left)\n",
    "            if node.right:\n",
    "                q.append(node.right)\n",
    "        level +=1\n",
    "    return res\n",
    "\n",
    "print(level_order(s))"
   ]
  },
  {
   "cell_type": "markdown",
   "metadata": {},
   "source": [
    "# N array post order traversal"
   ]
  },
  {
   "cell_type": "code",
   "execution_count": null,
   "metadata": {},
   "outputs": [],
   "source": [
    "        Recursive code:\n",
    "        if root is None:\n",
    "            return\n",
    "        if root:\n",
    "            for i in root.children:\n",
    "                self.postorder(i)\n",
    "            self.ans.append(root.val)\n",
    "        return self.ans    "
   ]
  },
  {
   "cell_type": "code",
   "execution_count": null,
   "metadata": {},
   "outputs": [],
   "source": [
    "def post(root):\n",
    "    if root is None:\n",
    "        return []  \n",
    "    stack = [root]\n",
    "    out = []\n",
    "    while(stack):\n",
    "        node = stack.pop()\n",
    "        if node:\n",
    "            out.append(node.val)\n",
    "            for i in children:\n",
    "                stack.append(i)\n",
    "    return out[::-1]"
   ]
  },
  {
   "cell_type": "markdown",
   "metadata": {},
   "source": [
    "# N array pre order traversal"
   ]
  },
  {
   "cell_type": "code",
   "execution_count": null,
   "metadata": {},
   "outputs": [],
   "source": [
    "def preorder(root):\n",
    "        if root is None:\n",
    "            return []\n",
    "        stack=[root]\n",
    "        out=[]\n",
    "        while(stack):\n",
    "            root=stack.pop()\n",
    "            out.append(root.val)\n",
    "            for i in reversed(root.children):\n",
    "                stack.append(i)\n",
    "        return out"
   ]
  },
  {
   "cell_type": "markdown",
   "metadata": {},
   "source": [
    "# N array level order traversal"
   ]
  },
  {
   "cell_type": "code",
   "execution_count": null,
   "metadata": {},
   "outputs": [],
   "source": [
    " def levelOrder(self, root):\n",
    "        \"\"\"\n",
    "        :type root: Node\n",
    "        :rtype: List[List[int]]\n",
    "        N ary level order\n",
    "        \"\"\"\n",
    "        if root==None:\n",
    "            return []\n",
    "        out=[[root.val]]\n",
    "        stack1=[root]\n",
    "        while(stack1):\n",
    "                stack=[]\n",
    "                res=[]\n",
    "                for j in stack1:\n",
    "                    for i in j.children:\n",
    "                        res.append(i.val)\n",
    "                        stack.append(i)\n",
    "                out.append(res)\n",
    "                stack1=stack\n",
    "        return out[:-1]"
   ]
  },
  {
   "cell_type": "markdown",
   "metadata": {},
   "source": [
    "# Converting the sorted array to height balanced BST (AVL TREE)"
   ]
  },
  {
   "cell_type": "code",
   "execution_count": null,
   "metadata": {},
   "outputs": [],
   "source": [
    "    def sortedArrayToBST(self, nums):\n",
    "        \"\"\"\n",
    "        :type nums: List[int]\n",
    "        :rtype: TreeNode\n",
    "        \"\"\"\n",
    "        # if not nums:\n",
    "        #     return None\n",
    "        # # if len(nums)==1:\n",
    "        # #     return TreeNode(nums[0])\n",
    "        # # if len(nums)==2:\n",
    "        # #     root = TreeNode(nums[1])\n",
    "        # #     root.left = TreeNode(nums[0])\n",
    "        # #     return root\n",
    "        # k = len(nums)\n",
    "        # mid = k//2\n",
    "        # # print(nums[mid])\n",
    "        # root = TreeNode(nums[mid])\n",
    "        # root.left = self.sortedArrayToBST(nums[:mid])\n",
    "        # root.right = self.sortedArrayToBST(nums[mid+1:])\n",
    "        # return root\n",
    "    \treturn self.helper(nums, 0, len(nums))\n",
    "    def helper(self, nums, lower, upper):\n",
    "        if lower == upper:\n",
    "            return None\n",
    "        mid = (lower + upper) // 2\n",
    "        node = TreeNode(nums[mid])\n",
    "        node.left = self.helper(nums, lower, mid)\n",
    "        node.right = self.helper(nums, mid+1, upper)\n",
    "        return node"
   ]
  },
  {
   "cell_type": "markdown",
   "metadata": {},
   "source": [
    "# Symmetric tree"
   ]
  },
  {
   "cell_type": "code",
   "execution_count": 28,
   "metadata": {},
   "outputs": [],
   "source": [
    "def mirror(left, right):\n",
    "    if left == None and right == None:\n",
    "        return True\n",
    "    if (left == None and right) or (right ==None and left):\n",
    "        return False\n",
    "    if left.val != right.val:\n",
    "        return False\n",
    "    else:\n",
    "        outpair = mirror(left.left, right.right)\n",
    "        inpair = mirror(left.right, right.left)\n",
    "        return outpair and inpair\n",
    "\n",
    "def sym(root):\n",
    "    if root is None:\n",
    "        return True\n",
    "    else:\n",
    "        return mirror(root.left, root.right)    "
   ]
  },
  {
   "cell_type": "code",
   "execution_count": 29,
   "metadata": {},
   "outputs": [
    {
     "name": "stdout",
     "output_type": "stream",
     "text": [
      "True\n"
     ]
    }
   ],
   "source": [
    "p=TreeNode(3)\n",
    "q=TreeNode(4)\n",
    "r=TreeNode(5)\n",
    "s=TreeNode(6)\n",
    "t=TreeNode(5)\n",
    "u=TreeNode(4)\n",
    "v=TreeNode(3)\n",
    "s.left = q\n",
    "s.right = u\n",
    "q.left = p\n",
    "q.right = r\n",
    "u.left = t \n",
    "u.right = v\n",
    "\n",
    "\n",
    "print(sym(s))"
   ]
  },
  {
   "cell_type": "code",
   "execution_count": null,
   "metadata": {},
   "outputs": [],
   "source": [
    "                     6\n",
    "               4          4\n",
    "          3       5     5     3"
   ]
  },
  {
   "cell_type": "code",
   "execution_count": 30,
   "metadata": {},
   "outputs": [
    {
     "name": "stdout",
     "output_type": "stream",
     "text": [
      "False\n"
     ]
    }
   ],
   "source": [
    "p=TreeNode(3)\n",
    "q=TreeNode(4)\n",
    "r=TreeNode(5)\n",
    "s=TreeNode(6)\n",
    "t=TreeNode(5)\n",
    "u=TreeNode(4)\n",
    "v=TreeNode(9)\n",
    "s.left = q\n",
    "s.right = u\n",
    "q.left = p\n",
    "q.right = r\n",
    "u.left = t \n",
    "u.right = v\n",
    "\n",
    "print(sym(s))"
   ]
  },
  {
   "cell_type": "markdown",
   "metadata": {},
   "source": [
    "# Diameter of a tree"
   ]
  },
  {
   "cell_type": "code",
   "execution_count": null,
   "metadata": {},
   "outputs": [],
   "source": [
    "def diameter(root):\n",
    "    self.ans=0\n",
    "    def depth(root):\n",
    "        if not root:\n",
    "            return 0\n",
    "        L=depth(root.left)\n",
    "        R=depth(root.right)\n",
    "        self.ans = max(self.ans, L + R )\n",
    "        return max(L,R)+1\n",
    "    depth(root)\n",
    "    return self.ans"
   ]
  },
  {
   "cell_type": "markdown",
   "metadata": {},
   "source": [
    "# Longest Univalue path"
   ]
  },
  {
   "cell_type": "code",
   "execution_count": null,
   "metadata": {},
   "outputs": [],
   "source": [
    "# https://leetcode.com/problems/longest-univalue-path/discuss/108142/Python-Simple-to-Understand\n",
    "        self.ans = 0\n",
    "        def helper(root):\n",
    "            # global ans\n",
    "            if not root:\n",
    "                return 0\n",
    "            left_arrow = helper(root.left)\n",
    "            right_arrow = helper(root.right)\n",
    "            left,right=0,0\n",
    "            if root.left and root.val == root.left.val:\n",
    "                left = left_arrow +1\n",
    "            if root.right and root.val == root.right.val:\n",
    "                right = right_arrow +1\n",
    "            self.ans =  max(self.ans, left + right)\n",
    "            return max(left,right)\n",
    "        helper(root)\n",
    "        return self.ans\n",
    "\n",
    "    \n",
    "# https://leetcode.com/problems/serialize-and-deserialize-n-ary-tree/\n",
    "# Use preorder"
   ]
  },
  {
   "cell_type": "code",
   "execution_count": null,
   "metadata": {},
   "outputs": [],
   "source": [
    "#Finding the mode of a BST\n",
    "#count.itervalues() and iteritems() ---- ela vuntayi\n",
    "count = collections.Counter()\n",
    "def dfs(node):\n",
    "    if node:\n",
    "        count[node.val] += 1\n",
    "        dfs(node.left)\n",
    "        dfs(node.right)\n",
    "        \n",
    "dfs(root)\n",
    "max_ct = max(count.itervalues())\n",
    "return [k for k, v in count.iteritems() if v == max_ct]"
   ]
  },
  {
   "cell_type": "code",
   "execution_count": null,
   "metadata": {},
   "outputs": [],
   "source": [
    "Account merge"
   ]
  },
  {
   "cell_type": "code",
   "execution_count": null,
   "metadata": {},
   "outputs": [],
   "source": [
    "        # Create of graph of emails and dictionary of emails to name\n",
    "        hmap = {}\n",
    "        graph = collections.defaultdict(set)\n",
    "        for info in accounts:\n",
    "            for email in info[1:]:\n",
    "                graph[info[1]].add(email)\n",
    "                graph[email].add(info[1])\n",
    "                hmap[email] = info[0]\n",
    "        \n",
    "        seen = set()\n",
    "        ans = []\n",
    "        for i in graph:\n",
    "            if i not in seen:\n",
    "                seen.add(i)\n",
    "                stack = [i]\n",
    "                component = []\n",
    "                while(stack):\n",
    "                    node = stack.pop()\n",
    "                    component.append(node)\n",
    "                    for j in graph[node]:\n",
    "                        if j not in seen:\n",
    "                            seen.add(j)\n",
    "                            stack.append(j)\n",
    "                ans.append([hmap[i]] + sorted(component))\n",
    "        return ans"
   ]
  },
  {
   "cell_type": "code",
   "execution_count": null,
   "metadata": {},
   "outputs": [],
   "source": [
    "Balanced Binary Search Tree is an AVL tree.\n",
    "\n",
    "Inorder traversal of Binary Search Tree is in sorted form."
   ]
  },
  {
   "cell_type": "markdown",
   "metadata": {},
   "source": [
    "# Validating Binary Search Tree"
   ]
  },
  {
   "cell_type": "code",
   "execution_count": null,
   "metadata": {},
   "outputs": [],
   "source": [
    "\n",
    "\n",
    "\n",
    "\n",
    "\n",
    "def valid(root, min= -float('inf'), max= float('inf')):\n",
    "    if root is None:\n",
    "        return True\n",
    "    if root.right ==None and root.left == None:\n",
    "        return True\n",
    "    else:\n",
    "        if root.left.val < min or root.right.val > max:\n",
    "            return False\n",
    "        else:\n",
    "            return valid(root.right, root.val, max) and valid(root.left, min, root.val)\n",
    "    "
   ]
  },
  {
   "cell_type": "markdown",
   "metadata": {},
   "source": [
    "# Deleting a node from a BST"
   ]
  },
  {
   "cell_type": "code",
   "execution_count": null,
   "metadata": {},
   "outputs": [],
   "source": [
    "\n",
    "    def deleteNode(self, root, key):\n",
    "        \"\"\"\n",
    "        :type root: TreeNode\n",
    "        :type key: int\n",
    "        :rtype: TreeNode\n",
    "        Perform the case analysis:\n",
    "        case 1:\n",
    "        delete node may not have children\n",
    "        case 2:\n",
    "        delete node may have single child\n",
    "\n",
    "        case 3:\n",
    "        if delete node has both the children: then the minimum of the right sub tree can be deleted\n",
    "        or you can get the maximum on the left sub tree and then the \n",
    "    \n",
    "        Always you need dive deep to understand the techniques and then \n",
    "        \"\"\"\n",
    "        if root==None:\n",
    "            return None\n",
    "        if root.val > key:\n",
    "            root.left = self.deleteNode(root.left,key)\n",
    "        elif root.val < key:\n",
    "            root.right = self.deleteNode(root.right,key)\n",
    "        else:\n",
    "            if not root.right:\n",
    "\t\t\t    return root.left\n",
    "            if not root.left: \n",
    "\t\t\t    return root.right\n",
    "            temp=root.right\n",
    "            mini =temp.val\n",
    "            while(temp.left):\n",
    "                temp=temp.left\n",
    "                mini=temp.val\n",
    "            root.val=mini\n",
    "            root.right=self.deleteNode(root.right, mini)\n",
    "        return root"
   ]
  },
  {
   "cell_type": "markdown",
   "metadata": {},
   "source": [
    "# Root to leaf paths"
   ]
  },
  {
   "cell_type": "code",
   "execution_count": null,
   "metadata": {},
   "outputs": [],
   "source": []
  },
  {
   "cell_type": "code",
   "execution_count": null,
   "metadata": {},
   "outputs": [],
   "source": []
  },
  {
   "cell_type": "markdown",
   "metadata": {},
   "source": [
    "# Max path sum in a binary_tree"
   ]
  },
  {
   "cell_type": "code",
   "execution_count": null,
   "metadata": {},
   "outputs": [],
   "source": [
    "# The path can be from any node to any node as long as there is physical connection.\n",
    "# Definition for a binary tree node.\n",
    "# class TreeNode(object):\n",
    "#     def __init__(self, x):\n",
    "#         self.val = x\n",
    "#         self.left = None\n",
    "#         self.right = None\n",
    "\n",
    "#Single and double represents the value from max(leftpath,right_path), left_path+double_path best path in the tree.\n",
    "class Solution(object):\n",
    "    def maxSum(self,root):\n",
    "        if root==None:\n",
    "            return 0,0\n",
    "        if root.left==None and root.right==None:\n",
    "            single=root.val\n",
    "            double=single\n",
    "            return single, double  \n",
    "        else:\n",
    "            if root.right and root.left:\n",
    "                S1,D1=self.maxSum(root.left)\n",
    "                S2,D2=self.maxSum(root.right)\n",
    "                single=max(root.val,root.val + max(S1,S2))\n",
    "                double=max(root.val+S1+S2, D1,D2,single)\n",
    "                # print(single,double,root.val)\n",
    "                return single, double\n",
    "            elif root.left:\n",
    "                S1,D1=self.maxSum(root.left)\n",
    "                single=max(root.val,root.val + S1)\n",
    "                double=max(D1,root.val,single)\n",
    "                return single, double\n",
    "            elif root.right:\n",
    "                S1,D1=self.maxSum(root.right)\n",
    "                single=max(root.val,root.val + S1)\n",
    "                double=max(D1,root.val,single)\n",
    "                return single, double\n",
    "                \n",
    "    def maxPathSum(self, root):\n",
    "        \"\"\"\n",
    "        :type root: TreeNode\n",
    "        :rtype: int\n",
    "        \"\"\"\n",
    "        # I need to write a helper function as the path is returning two things.\n",
    "        if root==None:\n",
    "            return 0\n",
    "        if root.left==None and root.right==None:\n",
    "            return root.val\n",
    "        else:\n",
    "            single,double=self.maxSum(root)\n",
    "            return max(single,double)"
   ]
  },
  {
   "cell_type": "markdown",
   "metadata": {},
   "source": [
    "# Lowest Common Ancestor of a tree using parent pointer"
   ]
  },
  {
   "cell_type": "code",
   "execution_count": null,
   "metadata": {},
   "outputs": [],
   "source": [
    "        if root==None:\n",
    "            return None\n",
    "        parent={root:None}\n",
    "        stack=[root]\n",
    "#I'm keeping both of them in parents.\n",
    "        while (p not in parent) or (q not in parent):\n",
    "            node=stack.pop()\n",
    "            if node.left:\n",
    "                parent[node.left]=node\n",
    "                stack.append(node.left)\n",
    "                \n",
    "            if node.right:\n",
    "                parent[node.right]=node\n",
    "                stack.append(node.right)\n",
    "        ancestors=set()\n",
    "        while(p):\n",
    "            ancestors.add(p)\n",
    "            p=parent[p]\n",
    "        \n",
    "        while q not in ancestors:\n",
    "            q=parent[q]\n",
    "        return q"
   ]
  },
  {
   "cell_type": "markdown",
   "metadata": {},
   "source": [
    "# Lowest Common Ancestor of a tree using recursion with the assumption both are present"
   ]
  },
  {
   "cell_type": "code",
   "execution_count": 57,
   "metadata": {},
   "outputs": [],
   "source": [
    "def LCA(root,p,q):\n",
    "    if root is None:\n",
    "        return None\n",
    "    if root.data == p.data or root.data == q.data:\n",
    "        return root\n",
    "    left = LCA(root.left , p,q)\n",
    "    right = LCA(root.right , p,q)\n",
    "    if left and right:\n",
    "        return root\n",
    "    if left == None and right ==None:\n",
    "        return None\n",
    "    else:\n",
    "        if left:\n",
    "            return left\n",
    "        else:\n",
    "            return right\n",
    "#The above program is under the assumption that both the nodes are present in the root."
   ]
  },
  {
   "cell_type": "code",
   "execution_count": null,
   "metadata": {},
   "outputs": [],
   "source": [
    "#No assumption that both the nodes are present in the tree\n",
    "\n",
    "def LCA_util(root, p, q, v):\n",
    "    if root is None:\n",
    "        return None\n",
    "    if root.data == p.data:\n",
    "        v[0] = True\n",
    "    if root.data == q.data:\n",
    "        v[1] = True\n",
    "    if root.data == p.data or root.data == q.data:\n",
    "        return root\n",
    "    left = LCA(root.left , p,q)\n",
    "    right = LCA(root.right , p,q)\n",
    "    if left and right:\n",
    "        return root\n",
    "    if left == None and right ==None:\n",
    "        return None\n",
    "    else:\n",
    "        if left:\n",
    "            return left\n",
    "        else:\n",
    "            return right      \n",
    "\n",
    "def find(root,p):\n",
    "    if root is None:\n",
    "        return True\n",
    "    if root.data == p.data:\n",
    "        return True\n",
    "    else:\n",
    "        return find(root.left,p) or find(root.right,p)\n",
    "    return False\n",
    "\n",
    "def LCA(root, p,q):\n",
    "    v=[False, False]\n",
    "    res = LCA_util(root, p, q, v)\n",
    "    \n",
    "    \n",
    "    if (v[0] and v[1]) or (v[0] and find(root,q)) or (v[1] and find(root, p)):\n",
    "        return res\n",
    "    else:\n",
    "        print(\"Its not existing\")\n",
    "        return None\n",
    "    "
   ]
  },
  {
   "cell_type": "code",
   "execution_count": null,
   "metadata": {},
   "outputs": [],
   "source": []
  },
  {
   "cell_type": "markdown",
   "metadata": {},
   "source": [
    "# What if they asks to give the path itself?"
   ]
  },
  {
   "cell_type": "code",
   "execution_count": null,
   "metadata": {},
   "outputs": [],
   "source": []
  },
  {
   "cell_type": "markdown",
   "metadata": {},
   "source": [
    "# \"Distance K\""
   ]
  },
  {
   "cell_type": "code",
   "execution_count": null,
   "metadata": {},
   "outputs": [],
   "source": [
    "    def distanceK(self, root, target, K):\n",
    "        \"\"\"\n",
    "        :type root: TreeNode\n",
    "        :type target: TreeNode\n",
    "        :type K: int\n",
    "        :rtype: List[int]\n",
    "        \"\"\"\n",
    "        def dfs(root,padr):\n",
    "            if root:\n",
    "                root.par=par\n",
    "            if root.left:\n",
    "                dfs(root.left,root)\n",
    "            if root.right:\n",
    "                dfs(root.right,root)\n",
    "        dfs(root,None)\n",
    "        q=collections.deque([(target,0)])\n",
    "        seen={target}\n",
    "        while(q):\n",
    "            if q[0][1]==K:\n",
    "                return [node.val for node,i in q]\n",
    "            node,d=q.popleft()\n",
    "            for i in (node.right, node.left, node.par):\n",
    "                if i and (i not in seen):\n",
    "                    #The reason for this is bcoz of node.parent\n",
    "                    seen.add(i)\n",
    "                    q.append([i,d+1])\n",
    "        return []"
   ]
  },
  {
   "cell_type": "markdown",
   "metadata": {},
   "source": [
    "# Maximum path sum"
   ]
  },
  {
   "cell_type": "code",
   "execution_count": null,
   "metadata": {},
   "outputs": [],
   "source": [
    "# Logic here:\n",
    "#     dfs is a function which stores the sum till that node from the root.\n",
    "\n",
    "def dfs(root, prev_sum):\n",
    "    if root == None:\n",
    "        return\n",
    "    else:\n",
    "        root.sum += root.sum + prev_sum\n",
    "        if root.left:\n",
    "            dfs(root.left,root.sum)\n",
    "        if root.right:\n",
    "            dfs(root.right,root.sum)\n",
    "dfs(root,0)\n",
    "\n",
    "#Now either you can check for the leaves.\n",
    "#One more function, can I improve this itself?\n",
    "\n",
    "ans = -float('inf')\n",
    "def dfs(root, prev_sum):\n",
    "    if root == None:\n",
    "        return\n",
    "    else:\n",
    "        root.sum += prev_sum\n",
    "        if root.left==None and root.right==None:\n",
    "            ans = max(ans,root.sum)\n",
    "        if root.left:\n",
    "            dfs(root.left,root.sum)\n",
    "        if root.right:\n",
    "            dfs(root.right,root.sum)\n",
    "\n",
    "dfs(root,0)\n",
    "return ans"
   ]
  },
  {
   "cell_type": "markdown",
   "metadata": {},
   "source": [
    "# Accounts Merge using connected components"
   ]
  },
  {
   "cell_type": "code",
   "execution_count": null,
   "metadata": {},
   "outputs": [],
   "source": [
    "        email_name = {}\n",
    "        graph = collections.defaultdict(set)\n",
    "        #It's always better to maintain set as the same email might present in different\n",
    "        for acc in accounts:\n",
    "            for email in acc[1:]:\n",
    "                graph[acc[1]].add(email)\n",
    "                graph[email].add(acc[1])\n",
    "                email_name[email] = acc[0]\n",
    "        \n",
    "        seen = set()\n",
    "        res =[]\n",
    "        \n",
    "        for i in graph:\n",
    "            if i not in seen:\n",
    "                seen.add(i)\n",
    "                component = []\n",
    "                stack = [i]\n",
    "                while(stack):\n",
    "                    node = stack.pop()\n",
    "                    component.append(node)\n",
    "                    for j in graph[node]:\n",
    "                        if j not in seen:\n",
    "                            seen.add(j)\n",
    "                            stack.append(j)\n",
    "                res.append([email_name[i]] + sorted(component) )\n",
    "        return res"
   ]
  },
  {
   "cell_type": "code",
   "execution_count": null,
   "metadata": {},
   "outputs": [],
   "source": [
    " class DSU():\n",
    "    def __init__(self):\n",
    "        self.p = range(10001)\n",
    "    def find(self,x):\n",
    "        if self.p[x] !=x :\n",
    "            self.p[x] = self.find(self.p[x])\n",
    "        return self.p[x]\n",
    "\n",
    "    def union(self, x, y):\n",
    "        self.p[self.find(x)] = self.find(y)\n",
    "####\n",
    "        email_name = {}\n",
    "        email_id = {}\n",
    "        dsu = DSU()\n",
    "        i=0\n",
    "        for acc in accounts:\n",
    "            name = acc[0]\n",
    "            for email in acc[1:]:\n",
    "                email_name[email] = name\n",
    "                if email not in email_id:\n",
    "                    email_id[email] = i\n",
    "                    i+=1\n",
    "                dsu.union(email_id[acc[1]], email_id[email])\n",
    "        \n",
    "        ans = collections.defaultdict(list)\n",
    "        for email in email_id:\n",
    "            ans[dsu.find(email_id[email])].append(email)\n",
    "        res = []\n",
    "        for v in ans.values():\n",
    "            res.append([email_name[v[0]]] + sorted(v))\n",
    "        return res"
   ]
  },
  {
   "cell_type": "markdown",
   "metadata": {},
   "source": [
    "# Binary Tree path traversal\n"
   ]
  },
  {
   "cell_type": "code",
   "execution_count": null,
   "metadata": {},
   "outputs": [],
   "source": []
  },
  {
   "cell_type": "markdown",
   "metadata": {},
   "source": [
    "# Trie Data Structure"
   ]
  },
  {
   "cell_type": "code",
   "execution_count": null,
   "metadata": {},
   "outputs": [],
   "source": []
  },
  {
   "cell_type": "markdown",
   "metadata": {},
   "source": [
    "# Union Find Datastructure"
   ]
  },
  {
   "cell_type": "code",
   "execution_count": null,
   "metadata": {},
   "outputs": [],
   "source": []
  },
  {
   "cell_type": "markdown",
   "metadata": {},
   "source": [
    "# Kth smallest element"
   ]
  },
  {
   "cell_type": "code",
   "execution_count": 56,
   "metadata": {},
   "outputs": [
    {
     "name": "stdout",
     "output_type": "stream",
     "text": [
      "[1, 2, 3, 8, 9, 6, 3] 3 6\n",
      "[8, 9, 6] 8 2\n",
      "8\n"
     ]
    }
   ],
   "source": [
    "# Logic here is:\n",
    "#     1) Space complexity is O(n)\n",
    "#     2) pick a pivot, get the elements higher than this element and lower than this element\n",
    "#     3) count the number of the elements such that the pivot is good.\n",
    "import random   \n",
    "def kthsmallest(array,k):\n",
    "    #Base conditions\n",
    "    if len(array) ==0:\n",
    "        return None\n",
    "    if len(array) ==1:\n",
    "        return array[0]\n",
    "    #pivot condition\n",
    "    while(True):\n",
    "        pivot = int(random.random() * (len(array)-1))\n",
    "    #     pivot = random.random*(len(array)-1)\n",
    "        #Two array upper and lower \n",
    "        upper = [] \n",
    "        lower = []\n",
    "        pivot_count =0\n",
    "        pivot_element = array[pivot]\n",
    "        print(array,pivot_element,k)\n",
    "        for i in array:\n",
    "            if i > pivot_element:\n",
    "                upper.append(i)\n",
    "            elif i < pivot_element:\n",
    "                lower.append(i)\n",
    "            else:\n",
    "                pivot_count += 1\n",
    "        #Since they are asking for the smallest element.\n",
    "        #Check for the condition where \n",
    "        if k <= len(lower):\n",
    "            array = lower\n",
    "#             return kthsmallest(array,k)   \n",
    "        elif k <= len(lower) + pivot_count:\n",
    "            return pivot_element\n",
    "        else:\n",
    "            array = upper\n",
    "            k = k - len(lower) - pivot_count\n",
    "#             return kthsmallest(array,k) \n",
    "\n",
    "print(kthsmallest([1,2,3,8,9,6,3],6))  "
   ]
  },
  {
   "cell_type": "code",
   "execution_count": null,
   "metadata": {},
   "outputs": [],
   "source": []
  },
  {
   "cell_type": "code",
   "execution_count": null,
   "metadata": {},
   "outputs": [],
   "source": []
  },
  {
   "cell_type": "code",
   "execution_count": null,
   "metadata": {},
   "outputs": [],
   "source": []
  },
  {
   "cell_type": "code",
   "execution_count": null,
   "metadata": {},
   "outputs": [],
   "source": []
  }
 ],
 "metadata": {
  "kernelspec": {
   "display_name": "Python 3",
   "language": "python",
   "name": "python3"
  },
  "language_info": {
   "codemirror_mode": {
    "name": "ipython",
    "version": 3
   },
   "file_extension": ".py",
   "mimetype": "text/x-python",
   "name": "python",
   "nbconvert_exporter": "python",
   "pygments_lexer": "ipython3",
   "version": "3.6.6"
  }
 },
 "nbformat": 4,
 "nbformat_minor": 2
}
